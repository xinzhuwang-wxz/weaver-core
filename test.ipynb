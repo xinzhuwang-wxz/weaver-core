{
 "cells": [
  {
   "cell_type": "code",
   "id": "initial_id",
   "metadata": {
    "collapsed": true,
    "ExecuteTime": {
     "end_time": "2025-01-27T07:34:24.855979Z",
     "start_time": "2025-01-27T07:34:24.852389Z"
    }
   },
   "source": [
    "import awkward as ak\n",
    "import numpy as np\n",
    "\n",
    "\"\"\"        >>> array = ak.Array([[[1.1, 2.2, 3.3],\n",
    "        ...                    [],\n",
    "        ...                    [4.4, 5.5],\n",
    "        ...                    [6.6]],\n",
    "        ...                   [],\n",
    "        ...                   [[7.7],\n",
    "        ...                    [8.8, 9.9]\n",
    "        ...                   ]])\n",
    "\"\"\"\n",
    "\n",
    "array = ak.Array([\n",
    "                    [                      # 1 first level list\n",
    "                        [1.1, 2.2, 3.3],   # 1 second level list\n",
    "                        [],\n",
    "                        [4.4, 5.5],\n",
    "                        [6.6]\n",
    "                    ],\n",
    "\n",
    "                   [],                     # 2 first level list\n",
    "\n",
    "                   [                       # 3 first level list\n",
    "                       [7.7],              # 3 second level list\n",
    "                       [8.8, 9.9]\n",
    "                   ]\n",
    "\n",
    "                 ])"
   ],
   "outputs": [],
   "execution_count": 17
  },
  {
   "metadata": {
    "ExecuteTime": {
     "end_time": "2025-01-27T07:32:07.932351Z",
     "start_time": "2025-01-27T07:32:07.929406Z"
    }
   },
   "cell_type": "code",
   "source": [
    "ak.flatten(array, axis=1).show()\n",
    "# flatten the first level list,\n",
    "# note that the \"2 first level list\" is flattened as empty list, and the empty list in the \"1 second level list\" has been reserved"
   ],
   "id": "a93b8528bab63dbb",
   "outputs": [
    {
     "name": "stdout",
     "output_type": "stream",
     "text": [
      "[[1.1, 2.2, 3.3],\n",
      " [],\n",
      " [4.4, 5.5],\n",
      " [6.6],\n",
      " [7.7],\n",
      " [8.8, 9.9]]\n"
     ]
    }
   ],
   "execution_count": 13
  },
  {
   "metadata": {
    "ExecuteTime": {
     "end_time": "2025-01-27T07:32:43.461084Z",
     "start_time": "2025-01-27T07:32:43.457734Z"
    }
   },
   "cell_type": "code",
   "source": [
    "ak.flatten(array, axis=2).show()\n",
    "# flatten the second level list,\n",
    "# note that the \"2 first level list\" has been reserved, and the empty list in the \"1 second level list\" has been removed"
   ],
   "id": "a9036abdd65028f7",
   "outputs": [
    {
     "name": "stdout",
     "output_type": "stream",
     "text": [
      "[[1.1, 2.2, 3.3, 4.4, 5.5, 6.6],\n",
      " [],\n",
      " [7.7, 8.8, 9.9]]\n"
     ]
    }
   ],
   "execution_count": 14
  },
  {
   "metadata": {
    "ExecuteTime": {
     "end_time": "2025-01-27T07:34:27.358762Z",
     "start_time": "2025-01-27T07:34:27.356027Z"
    }
   },
   "cell_type": "code",
   "source": "ak.flatten(array, axis=None).show()",
   "id": "ceb8e5ba9122818c",
   "outputs": [
    {
     "name": "stdout",
     "output_type": "stream",
     "text": [
      "[1.1,\n",
      " 2.2,\n",
      " 3.3,\n",
      " 4.4,\n",
      " 5.5,\n",
      " 6.6,\n",
      " 7.7,\n",
      " 8.8,\n",
      " 9.9]\n"
     ]
    }
   ],
   "execution_count": 18
  },
  {
   "metadata": {
    "ExecuteTime": {
     "end_time": "2025-01-27T07:51:51.472147Z",
     "start_time": "2025-01-27T07:51:51.468471Z"
    }
   },
   "cell_type": "code",
   "source": [
    "a = ak.to_numpy(ak.flatten(array, axis=None))\n",
    "print(any(np.isnan(a)))"
   ],
   "id": "cb3e78842d9aa10a",
   "outputs": [
    {
     "name": "stdout",
     "output_type": "stream",
     "text": [
      "False\n"
     ]
    }
   ],
   "execution_count": 25
  },
  {
   "metadata": {},
   "cell_type": "code",
   "outputs": [],
   "execution_count": null,
   "source": "",
   "id": "947926edf607cb95"
  }
 ],
 "metadata": {
  "kernelspec": {
   "display_name": "Python 3",
   "language": "python",
   "name": "python3"
  },
  "language_info": {
   "codemirror_mode": {
    "name": "ipython",
    "version": 2
   },
   "file_extension": ".py",
   "mimetype": "text/x-python",
   "name": "python",
   "nbconvert_exporter": "python",
   "pygments_lexer": "ipython2",
   "version": "2.7.6"
  }
 },
 "nbformat": 4,
 "nbformat_minor": 5
}
